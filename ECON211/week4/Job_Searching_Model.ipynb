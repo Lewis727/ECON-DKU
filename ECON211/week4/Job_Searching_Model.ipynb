{
  "nbformat": 4,
  "nbformat_minor": 0,
  "metadata": {
    "colab": {
      "name": "Job_Searching_Model.ipynb",
      "provenance": [],
      "collapsed_sections": [],
      "include_colab_link": true
    },
    "kernelspec": {
      "name": "python3",
      "display_name": "Python 3"
    }
  },
  "cells": [
    {
      "cell_type": "markdown",
      "metadata": {
        "id": "view-in-github",
        "colab_type": "text"
      },
      "source": [
        "<a href=\"https://colab.research.google.com/github/Lewis727/ECON-DKU/blob/master/ECON211/week4/Job_Searching_Model.ipynb\" target=\"_parent\"><img src=\"https://colab.research.google.com/assets/colab-badge.svg\" alt=\"Open In Colab\"/></a>"
      ]
    },
    {
      "cell_type": "markdown",
      "metadata": {
        "id": "KXQxG69ShZLY"
      },
      "source": [
        "# Research question: When to Accept or Reject an Offer? \r\n",
        "\r\n",
        "References: J J McCall. Economics of Information and Job Search. The Quarterly Journal of Economics, 84(1):113–126, 1970. <br> <i>Originally created by Prof. Luyao Zhang, edited by Lewis Tian"
      ]
    },
    {
      "cell_type": "markdown",
      "metadata": {
        "id": "sX29JuBaYXnn"
      },
      "source": [
        "### Install libraries: QuantEcon, Numba "
      ]
    },
    {
      "cell_type": "code",
      "metadata": {
        "colab": {
          "base_uri": "https://localhost:8080/"
        },
        "id": "grnK2ud6YJMV",
        "outputId": "3c8d7241-ad88-484c-f3d8-f0a54dec6cbf"
      },
      "source": [
        "!pip install quantecon ###if you use anaconda, type in the command instead: !conda install -y quantecon"
      ],
      "execution_count": 1,
      "outputs": [
        {
          "output_type": "stream",
          "text": [
            "Collecting quantecon\n",
            "\u001b[?25l  Downloading https://files.pythonhosted.org/packages/5d/e3/4fd5f948de917036b5696347b28fa25da7bd7df995e4f9f42db1c3070eb8/quantecon-0.4.8-py3-none-any.whl (230kB)\n",
            "\r\u001b[K     |█▍                              | 10kB 12.3MB/s eta 0:00:01\r\u001b[K     |██▉                             | 20kB 14.4MB/s eta 0:00:01\r\u001b[K     |████▎                           | 30kB 9.2MB/s eta 0:00:01\r\u001b[K     |█████▊                          | 40kB 6.9MB/s eta 0:00:01\r\u001b[K     |███████▏                        | 51kB 4.5MB/s eta 0:00:01\r\u001b[K     |████████▌                       | 61kB 4.9MB/s eta 0:00:01\r\u001b[K     |██████████                      | 71kB 5.2MB/s eta 0:00:01\r\u001b[K     |███████████▍                    | 81kB 5.2MB/s eta 0:00:01\r\u001b[K     |████████████▉                   | 92kB 5.0MB/s eta 0:00:01\r\u001b[K     |██████████████▎                 | 102kB 5.2MB/s eta 0:00:01\r\u001b[K     |███████████████▋                | 112kB 5.2MB/s eta 0:00:01\r\u001b[K     |█████████████████               | 122kB 5.2MB/s eta 0:00:01\r\u001b[K     |██████████████████▌             | 133kB 5.2MB/s eta 0:00:01\r\u001b[K     |████████████████████            | 143kB 5.2MB/s eta 0:00:01\r\u001b[K     |█████████████████████▍          | 153kB 5.2MB/s eta 0:00:01\r\u001b[K     |██████████████████████▊         | 163kB 5.2MB/s eta 0:00:01\r\u001b[K     |████████████████████████▏       | 174kB 5.2MB/s eta 0:00:01\r\u001b[K     |█████████████████████████▋      | 184kB 5.2MB/s eta 0:00:01\r\u001b[K     |███████████████████████████     | 194kB 5.2MB/s eta 0:00:01\r\u001b[K     |████████████████████████████▌   | 204kB 5.2MB/s eta 0:00:01\r\u001b[K     |█████████████████████████████▉  | 215kB 5.2MB/s eta 0:00:01\r\u001b[K     |███████████████████████████████▎| 225kB 5.2MB/s eta 0:00:01\r\u001b[K     |████████████████████████████████| 235kB 5.2MB/s \n",
            "\u001b[?25hRequirement already satisfied: scipy>=1.0.0 in /usr/local/lib/python3.6/dist-packages (from quantecon) (1.4.1)\n",
            "Requirement already satisfied: sympy in /usr/local/lib/python3.6/dist-packages (from quantecon) (1.1.1)\n",
            "Requirement already satisfied: requests in /usr/local/lib/python3.6/dist-packages (from quantecon) (2.23.0)\n",
            "Requirement already satisfied: numpy in /usr/local/lib/python3.6/dist-packages (from quantecon) (1.19.5)\n",
            "Requirement already satisfied: numba>=0.38 in /usr/local/lib/python3.6/dist-packages (from quantecon) (0.51.2)\n",
            "Requirement already satisfied: mpmath>=0.19 in /usr/local/lib/python3.6/dist-packages (from sympy->quantecon) (1.1.0)\n",
            "Requirement already satisfied: certifi>=2017.4.17 in /usr/local/lib/python3.6/dist-packages (from requests->quantecon) (2020.12.5)\n",
            "Requirement already satisfied: urllib3!=1.25.0,!=1.25.1,<1.26,>=1.21.1 in /usr/local/lib/python3.6/dist-packages (from requests->quantecon) (1.24.3)\n",
            "Requirement already satisfied: idna<3,>=2.5 in /usr/local/lib/python3.6/dist-packages (from requests->quantecon) (2.10)\n",
            "Requirement already satisfied: chardet<4,>=3.0.2 in /usr/local/lib/python3.6/dist-packages (from requests->quantecon) (3.0.4)\n",
            "Requirement already satisfied: setuptools in /usr/local/lib/python3.6/dist-packages (from numba>=0.38->quantecon) (51.3.3)\n",
            "Requirement already satisfied: llvmlite<0.35,>=0.34.0.dev0 in /usr/local/lib/python3.6/dist-packages (from numba>=0.38->quantecon) (0.34.0)\n",
            "Installing collected packages: quantecon\n",
            "Successfully installed quantecon-0.4.8\n"
          ],
          "name": "stdout"
        }
      ]
    },
    {
      "cell_type": "code",
      "metadata": {
        "colab": {
          "base_uri": "https://localhost:8080/"
        },
        "id": "TZJZDuiLiAnR",
        "outputId": "53a1d9c8-f6c5-4b9e-af84-5bb2a912dc0b"
      },
      "source": [
        "!pip install numba "
      ],
      "execution_count": 2,
      "outputs": [
        {
          "output_type": "stream",
          "text": [
            "Requirement already satisfied: numba in /usr/local/lib/python3.6/dist-packages (0.51.2)\n",
            "Requirement already satisfied: llvmlite<0.35,>=0.34.0.dev0 in /usr/local/lib/python3.6/dist-packages (from numba) (0.34.0)\n",
            "Requirement already satisfied: setuptools in /usr/local/lib/python3.6/dist-packages (from numba) (51.3.3)\n",
            "Requirement already satisfied: numpy>=1.15 in /usr/local/lib/python3.6/dist-packages (from numba) (1.19.5)\n"
          ],
          "name": "stdout"
        }
      ]
    },
    {
      "cell_type": "code",
      "metadata": {
        "id": "vzcdc_RtYcfO",
        "colab": {
          "base_uri": "https://localhost:8080/"
        },
        "outputId": "4d0ea595-cd1f-4d0e-f614-5d66646e68cc"
      },
      "source": [
        "import numpy as np\r\n",
        "from numba import jit, float64, jitclass\r\n",
        "import matplotlib.pyplot as plt\r\n",
        "%matplotlib inline\r\n",
        "import quantecon as qe\r\n",
        "from quantecon.distributions import BetaBinomial"
      ],
      "execution_count": 3,
      "outputs": [
        {
          "output_type": "stream",
          "text": [
            "/usr/local/lib/python3.6/dist-packages/numba/np/ufunc/parallel.py:363: NumbaWarning: The TBB threading layer requires TBB version 2019.5 or later i.e., TBB_INTERFACE_VERSION >= 11005. Found TBB_INTERFACE_VERSION = 9107. The TBB threading layer is disabled.\n",
            "  warnings.warn(problem)\n"
          ],
          "name": "stderr"
        }
      ]
    },
    {
      "cell_type": "markdown",
      "metadata": {
        "id": "-59TSwOujuBB"
      },
      "source": [
        "# The Model"
      ]
    },
    {
      "cell_type": "markdown",
      "metadata": {
        "id": "Lhesrzq2jxH8"
      },
      "source": [
        "### The Objective function\r\n",
        "\r\n",
        "The agent is infinitely lived and aims to maximize the expected discounted sum of earnings $E\\sum_{t=0}^{\\infty}\\beta^{t}y_t$\r\n",
        "\r\n",
        "\r\n",
        "*   $\\beta$ is the discount factor\r\n",
        "*   $y_{t}$ is income, equal to the wage $w_{t}$ when employed, and compensation $c$ when unemployed\r\n",
        "\r\n"
      ]
    },
    {
      "cell_type": "markdown",
      "metadata": {
        "id": "wQioG-1Vnoeq"
      },
      "source": [
        "### The State Value Function\r\n",
        "\r\n",
        "$s_t$ is an i.i.d. random variable called \"the State\", it is distributed over a set $S$ with probability $p(s)$ for $s\\in S$\r\n",
        "\r\n",
        "*   $w_t =w(s_t)$\r\n",
        "*   **State value function**: $v^{*}(s)$ denotes the value of the objective function given state s when an agent in this situation makes an optimal decision\r\n",
        "\r\n",
        "*   **The bellman equation**: the state value function must satisfy the following condition\r\n",
        "$v^{*}=max[w(s)/(1-\\beta),c+\\beta\\sum_{s'\\in S}v*(s')q(s') ]$\r\n",
        "\r\n",
        "\r\n",
        "\r\n",
        "\r\n",
        "\r\n"
      ]
    },
    {
      "cell_type": "markdown",
      "metadata": {
        "id": "LVwZilDJnvV4"
      },
      "source": [
        "### The optimal policy\r\n",
        "Choose the strategy that (accept or reject an offer) gives a higher value\r\n",
        "\r\n",
        "$\\sigma(s) =1[w(s)/(1-\\beta)>c+\\beta\\sum_{s'\\in S}v*(s')q(s') ]$\r\n",
        "\r\n",
        "here $1[P]$ =1 if statement P is true and 0 otherwise\r\n",
        "\r\n",
        "we can also write this as $\\sigma(s) =1[w(s)>\\overline{w}]$, where $\\overline{w}$ is the reservation wage which is a constant depending on β,c,and the wage distribution. From the above optimal strategy, we can see that actually $\\overline{w}=(1-\\beta)(c+\\beta\\sum_{s'\\in S}v*(s')q(s') )$.\r\n",
        "\r\n",
        "\r\n",
        "The agent should accept if and only if the current wage offer exceeds the reservation wage.\r\n"
      ]
    },
    {
      "cell_type": "markdown",
      "metadata": {
        "id": "JISFG1v7-qHK"
      },
      "source": [
        "# Simulation"
      ]
    },
    {
      "cell_type": "markdown",
      "metadata": {
        "id": "-YsHpHHd-sNs"
      },
      "source": [
        "## Simulate wage distributions\r\n",
        "\r\n",
        "###BetaBinominal distribution: https://en.wikipedia.org/wiki/Beta-binomial_distribution\r\n",
        "\r\n",
        "BetaBinominal(n,a,b) is a distribution on finite support {0, 1, 2, ..,n} with parameter a and b. \r\n",
        "\r\n",
        "Special case: \r\n",
        "\r\n",
        "\r\n",
        "*  It reduces to the Bernoulli distribution as a special case when n = 1.\r\n",
        "*  For a = b = 1, it is the discrete uniform distribution from 0 to n.\r\n",
        "\r\n",
        "\r\n",
        "Change following two boxes only to simulate the model for your own parameter of choices. \r\n"
      ]
    },
    {
      "cell_type": "code",
      "metadata": {
        "id": "C_j59Wl8gxBu"
      },
      "source": [
        "n, a, b = 80, 1, 1                  # parameters \r\n",
        "q_default = BetaBinomial(n, a, b).pdf()       # default choice of q"
      ],
      "execution_count": 4,
      "outputs": []
    },
    {
      "cell_type": "code",
      "metadata": {
        "id": "EXjJ9EMe-ubm"
      },
      "source": [
        "w_min, w_max = 20, 100\r\n",
        "w_default = np.linspace(w_min, w_max, n+1)"
      ],
      "execution_count": 5,
      "outputs": []
    },
    {
      "cell_type": "code",
      "metadata": {
        "colab": {
          "base_uri": "https://localhost:8080/",
          "height": 279
        },
        "id": "fDGcxVDP-yiy",
        "outputId": "93e15d39-c79b-49f5-d596-4bcea73fa35a"
      },
      "source": [
        "fig, ax = plt.subplots()\r\n",
        "ax.plot(w_default, q_default, '-o', label='$q(w(i))$')\r\n",
        "ax.set_xlabel('wages')\r\n",
        "ax.set_ylabel('probabilities')\r\n",
        "\r\n",
        "plt.show()"
      ],
      "execution_count": 6,
      "outputs": [
        {
          "output_type": "display_data",
          "data": {
            "image/png": "[encoded data removed]",
            "text/plain": [
              "<Figure size 432x288 with 1 Axes>"
            ]
          },
          "metadata": {
            "tags": [],
            "needs_background": "light"
          }
        }
      ]
    },
    {
      "cell_type": "markdown",
      "metadata": {
        "id": "OjtcwSQ9-12z"
      },
      "source": [
        "## Solve for the optimal policy and compute reservation wage\r\n",
        "\r\n",
        "references:  compiling python code with @jit https://numba.pydata.org/numba-doc/latest/user/jit.html"
      ]
    },
    {
      "cell_type": "code",
      "metadata": {
        "id": "bnQkSZpW-0qf"
      },
      "source": [
        "mccall_data = [\r\n",
        "    ('c', float64),      # unemployment compensation\r\n",
        "    ('β', float64),      # discount factor\r\n",
        "    ('w', float64[:]),   # array of wage values, w[i] = wage at state i\r\n",
        "    ('q', float64[:])    # array of probabilities\r\n",
        "]"
      ],
      "execution_count": 7,
      "outputs": []
    },
    {
      "cell_type": "code",
      "metadata": {
        "id": "6ooMLOrt-9fX",
        "colab": {
          "base_uri": "https://localhost:8080/"
        },
        "outputId": "561e28e5-a9e0-407a-e52f-61a6a7b47a44"
      },
      "source": [
        "@jitclass(mccall_data)\r\n",
        "class McCallModel:\r\n",
        "\r\n",
        "    def __init__(self, c=25, β=0.99, w=w_default, q=q_default):\r\n",
        "\r\n",
        "        self.c, self.β = c, β\r\n",
        "        self.w, self.q = w_default, q_default\r\n",
        "\r\n",
        "    def state_action_values(self, i, v):\r\n",
        "        \"\"\"\r\n",
        "        The values of state-action pairs.\r\n",
        "        \"\"\"\r\n",
        "        # Simplify names\r\n",
        "        c, β, w, q = self.c, self.β, self.w, self.q\r\n",
        "        # Evaluate value for each state-action pair\r\n",
        "        # Consider action = accept or reject the current offer\r\n",
        "        accept = w[i] / (1 - β)\r\n",
        "        reject = c + β * np.sum(v * q)\r\n",
        "\r\n",
        "        return np.array([accept, reject])"
      ],
      "execution_count": 8,
      "outputs": [
        {
          "output_type": "stream",
          "text": [
            "/usr/local/lib/python3.6/dist-packages/ipykernel_launcher.py:1: NumbaDeprecationWarning: The 'numba.jitclass' decorator has moved to 'numba.experimental.jitclass' to better reflect the experimental nature of the functionality. Please update your imports to accommodate this change and see https://numba.pydata.org/numba-doc/latest/reference/deprecation.html#change-of-jitclass-location for the time frame.\n",
            "  \"\"\"Entry point for launching an IPython kernel.\n"
          ],
          "name": "stderr"
        }
      ]
    },
    {
      "cell_type": "code",
      "metadata": {
        "id": "chZzu9L9_UJW"
      },
      "source": [
        "def plot_value_function_seq(mcm, ax, num_plots=6):\r\n",
        "    \"\"\"\r\n",
        "    Plot a sequence of value functions.\r\n",
        "\r\n",
        "        * mcm is an instance of McCallModel\r\n",
        "        * ax is an axes object that implements a plot method.\r\n",
        "\r\n",
        "    \"\"\"\r\n",
        "\r\n",
        "    n = len(mcm.w)\r\n",
        "    v = mcm.w / (1 - mcm.β)\r\n",
        "    v_next = np.empty_like(v)\r\n",
        "    for i in range(num_plots):\r\n",
        "        ax.plot(mcm.w, v, '-', alpha=0.4, label=f\"iterate {i}\")\r\n",
        "        # Update guess\r\n",
        "        for i in range(n):\r\n",
        "            v_next[i] = np.max(mcm.state_action_values(i, v))\r\n",
        "        v[:] = v_next  # copy contents into v\r\n",
        "\r\n",
        "    ax.legend(loc='lower right')"
      ],
      "execution_count": 9,
      "outputs": []
    },
    {
      "cell_type": "code",
      "metadata": {
        "colab": {
          "base_uri": "https://localhost:8080/",
          "height": 279
        },
        "id": "gBlDEMWZ_vi_",
        "outputId": "eb00b943-5af7-480d-b8ff-7e9c5be23607"
      },
      "source": [
        "mcm = McCallModel()\r\n",
        "\r\n",
        "fig, ax = plt.subplots()\r\n",
        "ax.set_xlabel('wage')\r\n",
        "ax.set_ylabel('value')\r\n",
        "plot_value_function_seq(mcm, ax)\r\n",
        "plt.show()"
      ],
      "execution_count": 10,
      "outputs": [
        {
          "output_type": "display_data",
          "data": {
            "image/png": "[encoded data removed]",
            "text/plain": [
              "<Figure size 432x288 with 1 Axes>"
            ]
          },
          "metadata": {
            "tags": [],
            "needs_background": "light"
          }
        }
      ]
    },
    {
      "cell_type": "code",
      "metadata": {
        "id": "tVIUlwb2_3RW"
      },
      "source": [
        "@jit(nopython=True)\r\n",
        "def compute_reservation_wage(mcm,\r\n",
        "                             max_iter=500,\r\n",
        "                             tol=1e-6):\r\n",
        "\r\n",
        "    # Simplify names\r\n",
        "    c, β, w, q = mcm.c, mcm.β, mcm.w, mcm.q\r\n",
        "\r\n",
        "    # == First compute the value function == #\r\n",
        "\r\n",
        "    n = len(w)\r\n",
        "    v = w / (1 - β)          # initial guess\r\n",
        "    v_next = np.empty_like(v)\r\n",
        "    i = 0\r\n",
        "    error = tol + 1\r\n",
        "    while i < max_iter and error > tol:\r\n",
        "\r\n",
        "        for i in range(n):\r\n",
        "            v_next[i] = np.max(mcm.state_action_values(i, v))\r\n",
        "\r\n",
        "        error = np.max(np.abs(v_next - v))\r\n",
        "        i += 1\r\n",
        "\r\n",
        "        v[:] = v_next  # copy contents into v\r\n",
        "\r\n",
        "    # == Now compute the reservation wage == #\r\n",
        "\r\n",
        "    return (1 - β) * (c + β * np.sum(v * q))"
      ],
      "execution_count": 11,
      "outputs": []
    },
    {
      "cell_type": "code",
      "metadata": {
        "colab": {
          "base_uri": "https://localhost:8080/"
        },
        "id": "m5gFz7AbAMPP",
        "outputId": "43ab39f8-1465-4cd2-98c2-8b03659f12c5"
      },
      "source": [
        "print('The reservation wage when the unemployment rate c={} and the discount factor β={} is {}'.format(mcm.c,mcm.β,compute_reservation_wage(mcm))) "
      ],
      "execution_count": 12,
      "outputs": [
        {
          "output_type": "stream",
          "text": [
            "The reservation wage when the unemployment rate c=25.0 and the discount factor β=0.99 is 90.16806717185322\n"
          ],
          "name": "stdout"
        }
      ]
    },
    {
      "cell_type": "markdown",
      "metadata": {
        "id": "tud91_7Z7__7"
      },
      "source": [
        "### change the parameter in the following box to calculate new reservation wage for parameters of your choice. "
      ]
    },
    {
      "cell_type": "code",
      "metadata": {
        "colab": {
          "base_uri": "https://localhost:8080/"
        },
        "id": "WG0M91yH7zs6",
        "outputId": "e97cf5b2-15da-46a0-8ab4-9ca9f9f5b7d1"
      },
      "source": [
        "mcm = McCallModel(c=50, β=0.5)\r\n",
        "print('The reservation wage when the unemployment rate c={} and the discount factor β={} is {}'.format(mcm.c,mcm.β,compute_reservation_wage(mcm))) "
      ],
      "execution_count": 13,
      "outputs": [
        {
          "output_type": "stream",
          "text": [
            "The reservation wage when the unemployment rate c=50.0 and the discount factor β=0.5 is 60.08264460811258\n"
          ],
          "name": "stdout"
        }
      ]
    },
    {
      "cell_type": "markdown",
      "metadata": {
        "id": "8vX4Nax8AYU_"
      },
      "source": [
        "## Comparative Statics "
      ]
    },
    {
      "cell_type": "markdown",
      "metadata": {
        "id": "m_N2fxNEEDYF"
      },
      "source": [
        "### the resevation wage"
      ]
    },
    {
      "cell_type": "code",
      "metadata": {
        "id": "Tk52A1YQAOWF"
      },
      "source": [
        "grid_size = 25\r\n",
        "R = np.empty((grid_size, grid_size))\r\n",
        "\r\n",
        "c_vals = np.linspace(10.0, 30.0, grid_size) ### change parameter of the unemployment conpensation\r\n",
        "β_vals = np.linspace(0.9, 0.99, grid_size) ### change parameter of the discount factors\r\n",
        "\r\n",
        "for i, c in enumerate(c_vals):\r\n",
        "    for j, β in enumerate(β_vals):\r\n",
        "        mcm = McCallModel(c=c, β=β)\r\n",
        "        R[i, j] = compute_reservation_wage(mcm)"
      ],
      "execution_count": 14,
      "outputs": []
    },
    {
      "cell_type": "markdown",
      "metadata": {
        "id": "RjGAsRJ8GCRX"
      },
      "source": [
        "contour plot : \r\n",
        "\r\n",
        "https://problemsolvingwithpython.com/06-Plotting-with-Matplotlib/06.14-Contour-Plots/"
      ]
    },
    {
      "cell_type": "code",
      "metadata": {
        "colab": {
          "base_uri": "https://localhost:8080/",
          "height": 300
        },
        "id": "4i9j_SRRBhoH",
        "outputId": "784da775-f8a8-461a-812c-a3401b3172da"
      },
      "source": [
        "fig, ax = plt.subplots()\r\n",
        "\r\n",
        "cs1 = ax.contourf(c_vals, β_vals, R.T, alpha=0.75)\r\n",
        "ctr1 = ax.contour(c_vals, β_vals, R.T)\r\n",
        "\r\n",
        "plt.clabel(ctr1, inline=1, fontsize=13)\r\n",
        "plt.colorbar(cs1, ax=ax)\r\n",
        "\r\n",
        "\r\n",
        "ax.set_title(\"reservation wage\")\r\n",
        "ax.set_xlabel(\"$c$\", fontsize=16)\r\n",
        "ax.set_ylabel(\"$β$\", fontsize=16)\r\n",
        "\r\n",
        "ax.ticklabel_format(useOffset=False)\r\n",
        "\r\n",
        "plt.show()"
      ],
      "execution_count": 15,
      "outputs": [
        {
          "output_type": "display_data",
          "data": {
            "image/png": "[encoded data removed]",
            "text/plain": [
              "<Figure size 432x288 with 2 Axes>"
            ]
          },
          "metadata": {
            "tags": [],
            "needs_background": "light"
          }
        }
      ]
    },
    {
      "cell_type": "markdown",
      "metadata": {
        "id": "lsxwVZ3Y-2EN"
      },
      "source": [
        "### Comparative Statics 2: in the following box, we keep unemployment compensation c fixed <b>(c=50)</b>, and we discuss how the reservation wage change when the discount factor $\\beta$ changes"
      ]
    },
    {
      "cell_type": "code",
      "metadata": {
        "id": "o4ycPuTJKvIw"
      },
      "source": [
        "line_lens =100 ### change to value of your choice\r\n",
        "c = 50 # please change c to value of your choice\r\n",
        "β_vals = np.linspace (0, 0.99, line_lens) # please change the range of beta to value of your choice\r\n",
        "R = np.empty((line_lens,1))\r\n",
        "for j, β in enumerate(β_vals):\r\n",
        "        mcm = McCallModel(c=c, β=β)\r\n",
        "        R[j] = compute_reservation_wage(mcm)"
      ],
      "execution_count": 16,
      "outputs": []
    },
    {
      "cell_type": "code",
      "metadata": {
        "colab": {
          "base_uri": "https://localhost:8080/",
          "height": 304
        },
        "id": "-Yrj9oy3LUkR",
        "outputId": "819da65a-7e29-457f-c7c3-92f23e1685ad"
      },
      "source": [
        "fig, ax = plt.subplots()\r\n",
        "\r\n",
        "cs2 = ax.scatter(β_vals, R)\r\n",
        "\r\n",
        "ax.set_title('Comparative Statics 2: Reservation Wage')\r\n",
        "ax.set_xlabel(\"$β$\", fontsize=16)\r\n",
        "ax.set_ylabel(\"$reservation wage$\", fontsize=16)\r\n",
        "\r\n",
        "ax.ticklabel_format(useOffset=False)\r\n",
        "\r\n",
        "plt.show()"
      ],
      "execution_count": 17,
      "outputs": [
        {
          "output_type": "display_data",
          "data": {
            "image/png": "[encoded data removed]",
            "text/plain": [
              "<Figure size 432x288 with 1 Axes>"
            ]
          },
          "metadata": {
            "tags": [],
            "needs_background": "light"
          }
        }
      ]
    },
    {
      "cell_type": "markdown",
      "metadata": {
        "id": "Ajbse16H_PKY"
      },
      "source": [
        "### Comparative Statics 1: in the following box, we keep the discount factor $\\beta$ constant <b>($\\beta=0.5$)</b>, we discuss how the reservation wage change when the unemployment compensation changes"
      ]
    },
    {
      "cell_type": "code",
      "metadata": {
        "id": "7XNPwmdULwWm"
      },
      "source": [
        "line_lens =25 ## change line_lens to value of your choice\r\n",
        "β=0.5 ### change beta to value of your choice\r\n",
        "c_vals = np.linspace (0, 120, line_lens) ### change c to the range of your choice\r\n",
        "R = np.empty((line_lens,1))\r\n",
        "for i, c in enumerate(c_vals):\r\n",
        "        mcm = McCallModel(c=c, β=β)\r\n",
        "        R[i] = compute_reservation_wage(mcm)"
      ],
      "execution_count": 18,
      "outputs": []
    },
    {
      "cell_type": "code",
      "metadata": {
        "colab": {
          "base_uri": "https://localhost:8080/",
          "height": 300
        },
        "id": "ywclK_RhMFM7",
        "outputId": "f16323d6-8cd9-4483-d5c9-626a6abb5c54"
      },
      "source": [
        "fig, ax = plt.subplots()\r\n",
        "\r\n",
        "cs3 = ax.scatter(c_vals, R)\r\n",
        "\r\n",
        "ax.set_title('Comparative Statics 1: Reservation Wage')\r\n",
        "ax.set_xlabel(\"$c$\", fontsize=16)\r\n",
        "ax.set_ylabel(\"$reservation wage$\", fontsize=16)\r\n",
        "\r\n",
        "ax.ticklabel_format(useOffset=False)\r\n",
        "\r\n",
        "plt.show()"
      ],
      "execution_count": 19,
      "outputs": [
        {
          "output_type": "display_data",
          "data": {
            "image/png": "[encoded data removed]",
            "text/plain": [
              "<Figure size 432x288 with 1 Axes>"
            ]
          },
          "metadata": {
            "tags": [],
            "needs_background": "light"
          }
        }
      ]
    },
    {
      "cell_type": "markdown",
      "metadata": {
        "id": "DXjxZwLpBtCq"
      },
      "source": [
        "### the duration of unemploymnet "
      ]
    },
    {
      "cell_type": "markdown",
      "metadata": {
        "id": "cNMrj_rPmMaZ"
      },
      "source": [
        "comparative statics for the unemployment compensation"
      ]
    },
    {
      "cell_type": "code",
      "metadata": {
        "id": "Rjn5CZ3CEVWY",
        "colab": {
          "base_uri": "https://localhost:8080/",
          "height": 312
        },
        "outputId": "8891000b-ecae-4b1a-c61b-5ee52470d42a"
      },
      "source": [
        "cdf = np.cumsum(q_default)\r\n",
        "\r\n",
        "@jit(nopython=True)\r\n",
        "def compute_stopping_time(w_bar, seed=42):\r\n",
        "\r\n",
        "    np.random.seed(seed)\r\n",
        "    t = 1\r\n",
        "    while True:\r\n",
        "        # Generate a wage draw\r\n",
        "        w = w_default[qe.random.draw(cdf)]\r\n",
        "        # Stop when the draw is above the reservation wage\r\n",
        "        if w >= w_bar:\r\n",
        "            stopping_time = t\r\n",
        "            break\r\n",
        "        else:\r\n",
        "            t += 1\r\n",
        "    return stopping_time\r\n",
        "\r\n",
        "@jit(nopython=True)\r\n",
        "def compute_mean_stopping_time(w_bar, num_reps=10000):\r\n",
        "    obs = np.empty(num_reps)\r\n",
        "    for i in range(num_reps):\r\n",
        "        obs[i] = compute_stopping_time(w_bar, seed=i)\r\n",
        "    return obs.mean()\r\n",
        "\r\n",
        "\r\n",
        "β =0.5 ### change the discount factor beta to value of your choice\r\n",
        "c_vals = np.linspace(0, 120, 25) ### change the unemployment compensation to value of your choice\r\n",
        "\r\n",
        "\r\n",
        "stop_times = np.empty_like(c_vals)\r\n",
        "for i, c in enumerate(c_vals):\r\n",
        "    mcm = McCallModel(c=c, β=β)\r\n",
        "    w_bar = compute_reservation_wage(mcm)\r\n",
        "    if w_bar > w_max:\r\n",
        "      break\r\n",
        "    else:\r\n",
        "      stop_times[i] = compute_mean_stopping_time(w_bar)\r\n",
        "\r\n",
        "fig, ax = plt.subplots()\r\n",
        "print('The unemployment duration when compensation is higher than a certain threshold (leading reservation wage to be higher than w_max) would be infinite')\r\n",
        "ax.set_title('Comparative Statics 1: Unemployment Duration')\r\n",
        "ax.plot(c_vals[:21], stop_times[:21], label=\"mean unemployment duration\")\r\n",
        "ax.set(xlabel=\"unemployment compensation\", ylabel=\"months\")\r\n",
        "ax.legend()\r\n",
        "\r\n",
        "plt.show()"
      ],
      "execution_count": 20,
      "outputs": [
        {
          "output_type": "stream",
          "text": [
            "The unemployment duration when compensation is higher than a certain threshold (leading reservation wage to be higher than w_max) would be infinite\n"
          ],
          "name": "stdout"
        },
        {
          "output_type": "display_data",
          "data": {
            "image/png": "[encoded data removed]",
            "text/plain": [
              "<Figure size 432x288 with 1 Axes>"
            ]
          },
          "metadata": {
            "tags": [],
            "needs_background": "light"
          }
        }
      ]
    },
    {
      "cell_type": "markdown",
      "metadata": {
        "id": "6FUGpyr3mTmw"
      },
      "source": [
        "cs2: comparative statics for the discount factor"
      ]
    },
    {
      "cell_type": "code",
      "metadata": {
        "id": "Dnx7ghSzplgn",
        "colab": {
          "base_uri": "https://localhost:8080/",
          "height": 295
        },
        "outputId": "11e123a3-be99-4a5f-907c-b031a1a490d8"
      },
      "source": [
        "cdf = np.cumsum(q_default)\r\n",
        "\r\n",
        "@jit(nopython=True)\r\n",
        "def compute_stopping_time(w_bar, seed=1234):\r\n",
        "\r\n",
        "    np.random.seed(seed)\r\n",
        "    t = 1\r\n",
        "    while True:\r\n",
        "        # Generate a wage draw\r\n",
        "        w = w_default[qe.random.draw(cdf)]\r\n",
        "        # Stop when the draw is above the reservation wage\r\n",
        "        if w >= w_bar:\r\n",
        "            stopping_time = t\r\n",
        "            break\r\n",
        "        else:\r\n",
        "            t += 1\r\n",
        "    return stopping_time\r\n",
        "\r\n",
        "@jit(nopython=True)\r\n",
        "def compute_mean_stopping_time(w_bar, num_reps=1000):\r\n",
        "    obs = np.empty(num_reps)\r\n",
        "    for i in range(num_reps):\r\n",
        "        obs[i] = compute_stopping_time(w_bar, seed=i)\r\n",
        "    return obs.mean()\r\n",
        "\r\n",
        "c=50 ### change the unemployment compensation c to values of your choice\r\n",
        "β_vals = np.linspace(0, 0.99, 100) ### change discount factor beta to range of your choice.\r\n",
        "stop_times = np.empty_like(β_vals)\r\n",
        "for j, β in enumerate(β_vals):\r\n",
        "    mcm = McCallModel(c=c, β=β)\r\n",
        "    w_bar = compute_reservation_wage(mcm)\r\n",
        "    stop_times[j] = compute_mean_stopping_time(w_bar)\r\n",
        "\r\n",
        "fig, ax = plt.subplots()\r\n",
        "\r\n",
        "ax.set_title('Comparative Statics 2: Unemployment Duration')\r\n",
        "ax.plot(β_vals, stop_times, label=\"discount factor\")\r\n",
        "ax.set(xlabel=\"discount factor\", ylabel=\"months\")\r\n",
        "ax.legend()\r\n",
        "\r\n",
        "plt.show()"
      ],
      "execution_count": 21,
      "outputs": [
        {
          "output_type": "display_data",
          "data": {
            "image/png": "[encoded data removed]",
            "text/plain": [
              "<Figure size 432x288 with 1 Axes>"
            ]
          },
          "metadata": {
            "tags": [],
            "needs_background": "light"
          }
        }
      ]
    },
    {
      "cell_type": "code",
      "metadata": {
        "id": "uvftzc70_Dpk"
      },
      "source": [
        ""
      ],
      "execution_count": null,
      "outputs": []
    }
  ]
}